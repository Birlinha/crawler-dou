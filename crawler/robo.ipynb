{
 "cells": [
  {
   "cell_type": "code",
   "execution_count": 1,
   "metadata": {},
   "outputs": [],
   "source": [
    "from selenium import webdriver\n",
    "import time\n",
    "import pandas as pd "
   ]
  },
  {
   "cell_type": "code",
   "execution_count": 2,
   "metadata": {},
   "outputs": [],
   "source": [
    "# Esta função cria um dataframe com as informações dentro da página de busca do datajus\n",
    "\n",
    "# datajus/diarios/\n",
    "\n",
    "# title = titulo do artigo\n",
    "# publisher = publicante do artigo\n",
    "# body = conteúdo da página encontrada com a keyword referenciada\n",
    "# link = link do artigo \n",
    "\n",
    "def page_dataframe():\n",
    "    df = pd.DataFrame()\n",
    "\n",
    "    titleL = []\n",
    "    publisherL = []\n",
    "    bodyL = []\n",
    "    linkL = []\n",
    "    \n",
    "    for i in range(1,10):\n",
    "        title = driver.find_element_by_xpath(\"//*[@id='app-root']/div/div/div[1]/div[2]/div[2]/div[{}]/div/h2\".format(i))\n",
    "        publisher = driver.find_element_by_xpath(\"//*[@id='app-root']/div/div/div[1]/div[2]/div[2]/div[{}]/div/div[1]\".format(i))\n",
    "        body = driver.find_element_by_xpath(\"//*[@id='app-root']/div/div/div[1]/div[2]/div[2]/div[{}]/div/div[2]\".format(i))\n",
    "        link = driver.find_element_by_xpath(\"//*[@id='app-root']/div/div/div[1]/div[2]/div[2]/div[{}]/div/h2/a\".format(i))\n",
    "        link_text = link.get_attribute(\"href\")\n",
    "        \n",
    "        titleL.append(title.text)\n",
    "        publisherL.append(publisher.text)\n",
    "        bodyL.append(body.text)\n",
    "        linkL.append(link_text)\n",
    "    \n",
    "    df[\"title\"] = titleL\n",
    "    df[\"url\"] = linkL\n",
    "    df[\"publisher\"] = publisherL\n",
    "    df[\"body\"] = bodyL\n",
    "    \n",
    "    return df, linkL"
   ]
  },
  {
   "cell_type": "code",
   "execution_count": 3,
   "metadata": {},
   "outputs": [],
   "source": [
    "options = webdriver.ChromeOptions()\n",
    "options.add_argument(\"--start-maximized\")\n",
    "\n",
    "path = \"chromedriver.exe\"\n",
    "\n",
    "driver = webdriver.Chrome(executable_path=path, options=options)\n",
    "time.sleep(3)"
   ]
  },
  {
   "cell_type": "code",
   "execution_count": 4,
   "metadata": {},
   "outputs": [],
   "source": [
    "# esta celula ainda está sujeita a alteração, já que a KEYWORD pode ser alterado\n",
    "\n",
    "# dentro de KEYWORD, se coloca a palavra a ser pesquisada\n",
    "# para usar mais de um termo em KEYWORD, usar mesmas regras do google:\n",
    "# \"covid +suspensão\" (encontra artigos que contenham o texto \"covid\" e também o texto \"suspensão\")\n",
    "\n",
    "# filt é a ordem em que os resultados serão mostrados (não é tão relevante já que pegaremos info em massa)\n",
    "url = 'https://www.jusbrasil.com.br/diarios/'\n",
    "\n",
    "keyword = \"covid+fechamento\"\n",
    "filt = \"data&l=1dia\"\n"
   ]
  },
  {
   "cell_type": "code",
   "execution_count": 5,
   "metadata": {},
   "outputs": [],
   "source": [
    "# loop para entrar em cada uma das páginas do datajus\n",
    "\n",
    "# Este loop ainda não está completo, por isso deixamos o range baixo (apenas para retirar o dataframe da primeira pagina)\n",
    "\n",
    "for i in range(1,2):\n",
    "    page = i\n",
    "    \n",
    "    search = \"busca?q=\"+keyword+\"&p=\"+str(page)+\"o=\"+filt\n",
    "    driver.get(url+search)\n",
    "    \n",
    "    time.sleep(2)\n",
    "    \n",
    "    df, linkL = page_dataframe()\n",
    "    \n",
    "    \n",
    "    #loop dentro de cada um dos links que estão dentro da página, para entrar no artigo e extrair os dados\n",
    "    count=0\n",
    "    for link in linkL:\n",
    "        time.sleep(2)\n",
    "        driver.get(link)\n",
    "        body = driver.find_element_by_xpath(\"//*[@id='app-root']/div/div/div[1]/div/div[2]/div/div[1]\")\n",
    "        \n",
    "        ser = pd.Series()\n",
    "        ser[\"body\"] = body.text\n",
    "        \n",
    "        df.loc[count][\"body\"] = ser[\"body\"]\n",
    "        count=count+1"
   ]
  },
  {
   "cell_type": "code",
   "execution_count": 6,
   "metadata": {},
   "outputs": [],
   "source": [
    "df.to_csv(r'vraul.csv')"
   ]
  }
 ],
 "metadata": {
  "kernelspec": {
   "display_name": "Python 3",
   "language": "python",
   "name": "python3"
  },
  "language_info": {
   "codemirror_mode": {
    "name": "ipython",
    "version": 3
   },
   "file_extension": ".py",
   "mimetype": "text/x-python",
   "name": "python",
   "nbconvert_exporter": "python",
   "pygments_lexer": "ipython3",
   "version": "3.7.3"
  }
 },
 "nbformat": 4,
 "nbformat_minor": 2
}
